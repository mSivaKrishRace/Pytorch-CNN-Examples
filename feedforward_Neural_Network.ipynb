{
 "cells": [
  {
   "cell_type": "markdown",
   "metadata": {},
   "source": [
    "# Pytorch -- Feed Forward Neural Network"
   ]
  },
  {
   "cell_type": "markdown",
   "metadata": {},
   "source": [
    "#### Importing required libraries"
   ]
  },
  {
   "cell_type": "code",
   "execution_count": 1,
   "metadata": {
    "collapsed": true
   },
   "outputs": [],
   "source": [
    "import torch\n",
    "import torch.nn as nn\n",
    "import torchvision\n",
    "import torchvision.transforms as transforms"
   ]
  },
  {
   "cell_type": "markdown",
   "metadata": {},
   "source": [
    "#### Device configuration"
   ]
  },
  {
   "cell_type": "code",
   "execution_count": 2,
   "metadata": {
    "collapsed": true
   },
   "outputs": [],
   "source": [
    "device = torch.device('cpu')"
   ]
  },
  {
   "cell_type": "code",
   "execution_count": 3,
   "metadata": {},
   "outputs": [
    {
     "data": {
      "text/plain": [
       "device(type='cpu')"
      ]
     },
     "execution_count": 3,
     "metadata": {},
     "output_type": "execute_result"
    }
   ],
   "source": [
    "device"
   ]
  },
  {
   "cell_type": "markdown",
   "metadata": {},
   "source": [
    "#### Hyper-parameters "
   ]
  },
  {
   "cell_type": "code",
   "execution_count": 4,
   "metadata": {
    "collapsed": true
   },
   "outputs": [],
   "source": [
    "input_size = 784\n",
    "hidden_size = 128\n",
    "num_classes = 10\n",
    "num_epochs = 3\n",
    "batch_size = 32\n",
    "learning_rate = 0.001"
   ]
  },
  {
   "cell_type": "markdown",
   "metadata": {},
   "source": [
    "#### Dataset --  MNIST"
   ]
  },
  {
   "cell_type": "code",
   "execution_count": 5,
   "metadata": {
    "collapsed": true
   },
   "outputs": [],
   "source": [
    "train_dataset = torchvision.datasets.MNIST(root='../../data', \n",
    "                                           train=True, \n",
    "                                           transform=transforms.ToTensor(),  \n",
    "                                           download=True)\n",
    "\n",
    "test_dataset = torchvision.datasets.MNIST(root='../../data', \n",
    "                                          train=False, \n",
    "                                          transform=transforms.ToTensor())"
   ]
  },
  {
   "cell_type": "markdown",
   "metadata": {},
   "source": [
    "#### Data loader"
   ]
  },
  {
   "cell_type": "code",
   "execution_count": 6,
   "metadata": {
    "collapsed": true
   },
   "outputs": [],
   "source": [
    "train_loader = torch.utils.data.DataLoader(dataset=train_dataset, \n",
    "                                           batch_size=batch_size, \n",
    "                                           shuffle=True)\n",
    "\n",
    "test_loader = torch.utils.data.DataLoader(dataset=test_dataset, \n",
    "                                          batch_size=batch_size, \n",
    "                                          shuffle=False)"
   ]
  },
  {
   "cell_type": "markdown",
   "metadata": {},
   "source": [
    "## Fully connected neural network with one hidden layer"
   ]
  },
  {
   "cell_type": "code",
   "execution_count": 7,
   "metadata": {
    "collapsed": true
   },
   "outputs": [],
   "source": [
    "class NeuralNet(nn.Module):\n",
    "    def __init__(self, input_size, hidden_size, num_classes):\n",
    "        super(NeuralNet, self).__init__()\n",
    "        self.fc1 = nn.Linear(input_size, hidden_size) \n",
    "        self.relu = nn.ReLU()\n",
    "        self.fc2 = nn.Linear(hidden_size, num_classes)  \n",
    "    \n",
    "    def forward(self, x):\n",
    "        out = self.fc1(x)\n",
    "        out = self.relu(out)\n",
    "        out = self.fc2(out)\n",
    "        return out"
   ]
  },
  {
   "cell_type": "code",
   "execution_count": 8,
   "metadata": {
    "collapsed": true
   },
   "outputs": [],
   "source": [
    "model = NeuralNet(input_size, hidden_size, num_classes).to(device)"
   ]
  },
  {
   "cell_type": "markdown",
   "metadata": {},
   "source": [
    "#### Loss and optimizer"
   ]
  },
  {
   "cell_type": "code",
   "execution_count": 9,
   "metadata": {
    "collapsed": true
   },
   "outputs": [],
   "source": [
    "criterion = nn.CrossEntropyLoss()\n",
    "optimizer = torch.optim.Adam(model.parameters(), lr=learning_rate)  "
   ]
  },
  {
   "cell_type": "markdown",
   "metadata": {},
   "source": [
    "#### Train the model"
   ]
  },
  {
   "cell_type": "code",
   "execution_count": 10,
   "metadata": {},
   "outputs": [
    {
     "name": "stdout",
     "output_type": "stream",
     "text": [
      "Epoch [1/3], Step [100/1875], Loss: 0.4636\n",
      "Epoch [1/3], Step [200/1875], Loss: 0.5625\n",
      "Epoch [1/3], Step [300/1875], Loss: 0.3399\n",
      "Epoch [1/3], Step [400/1875], Loss: 0.2878\n",
      "Epoch [1/3], Step [500/1875], Loss: 0.5121\n",
      "Epoch [1/3], Step [600/1875], Loss: 0.2681\n",
      "Epoch [1/3], Step [700/1875], Loss: 0.3077\n",
      "Epoch [1/3], Step [800/1875], Loss: 0.1548\n",
      "Epoch [1/3], Step [900/1875], Loss: 0.0884\n",
      "Epoch [1/3], Step [1000/1875], Loss: 0.1818\n",
      "Epoch [1/3], Step [1100/1875], Loss: 0.1928\n",
      "Epoch [1/3], Step [1200/1875], Loss: 0.0952\n",
      "Epoch [1/3], Step [1300/1875], Loss: 0.2782\n",
      "Epoch [1/3], Step [1400/1875], Loss: 0.1804\n",
      "Epoch [1/3], Step [1500/1875], Loss: 0.2135\n",
      "Epoch [1/3], Step [1600/1875], Loss: 0.3319\n",
      "Epoch [1/3], Step [1700/1875], Loss: 0.1809\n",
      "Epoch [1/3], Step [1800/1875], Loss: 0.0859\n",
      "Epoch [2/3], Step [100/1875], Loss: 0.2102\n",
      "Epoch [2/3], Step [200/1875], Loss: 0.1055\n",
      "Epoch [2/3], Step [300/1875], Loss: 0.0743\n",
      "Epoch [2/3], Step [400/1875], Loss: 0.2077\n",
      "Epoch [2/3], Step [500/1875], Loss: 0.0477\n",
      "Epoch [2/3], Step [600/1875], Loss: 0.1874\n",
      "Epoch [2/3], Step [700/1875], Loss: 0.0903\n",
      "Epoch [2/3], Step [800/1875], Loss: 0.0333\n",
      "Epoch [2/3], Step [900/1875], Loss: 0.0948\n",
      "Epoch [2/3], Step [1000/1875], Loss: 0.1139\n",
      "Epoch [2/3], Step [1100/1875], Loss: 0.1560\n",
      "Epoch [2/3], Step [1200/1875], Loss: 0.0778\n",
      "Epoch [2/3], Step [1300/1875], Loss: 0.0886\n",
      "Epoch [2/3], Step [1400/1875], Loss: 0.1164\n",
      "Epoch [2/3], Step [1500/1875], Loss: 0.1144\n",
      "Epoch [2/3], Step [1600/1875], Loss: 0.0186\n",
      "Epoch [2/3], Step [1700/1875], Loss: 0.1744\n",
      "Epoch [2/3], Step [1800/1875], Loss: 0.0076\n",
      "Epoch [3/3], Step [100/1875], Loss: 0.0415\n",
      "Epoch [3/3], Step [200/1875], Loss: 0.4273\n",
      "Epoch [3/3], Step [300/1875], Loss: 0.1059\n",
      "Epoch [3/3], Step [400/1875], Loss: 0.1307\n",
      "Epoch [3/3], Step [500/1875], Loss: 0.0788\n",
      "Epoch [3/3], Step [600/1875], Loss: 0.0170\n",
      "Epoch [3/3], Step [700/1875], Loss: 0.0095\n",
      "Epoch [3/3], Step [800/1875], Loss: 0.0267\n",
      "Epoch [3/3], Step [900/1875], Loss: 0.1527\n",
      "Epoch [3/3], Step [1000/1875], Loss: 0.0623\n",
      "Epoch [3/3], Step [1100/1875], Loss: 0.0627\n",
      "Epoch [3/3], Step [1200/1875], Loss: 0.0216\n",
      "Epoch [3/3], Step [1300/1875], Loss: 0.0788\n",
      "Epoch [3/3], Step [1400/1875], Loss: 0.0377\n",
      "Epoch [3/3], Step [1500/1875], Loss: 0.0820\n",
      "Epoch [3/3], Step [1600/1875], Loss: 0.0277\n",
      "Epoch [3/3], Step [1700/1875], Loss: 0.0779\n",
      "Epoch [3/3], Step [1800/1875], Loss: 0.2026\n"
     ]
    }
   ],
   "source": [
    "total_step = len(train_loader)\n",
    "for epoch in range(num_epochs):\n",
    "    for i, (images, labels) in enumerate(train_loader):  \n",
    "        # Move tensors to the configured device\n",
    "        images = images.reshape(-1, 28*28).to(device)\n",
    "        labels = labels.to(device)\n",
    "        \n",
    "        # Forward pass\n",
    "        outputs = model(images)\n",
    "        loss = criterion(outputs, labels)\n",
    "        \n",
    "        # Backward and optimize\n",
    "        optimizer.zero_grad()\n",
    "        loss.backward()\n",
    "        optimizer.step()\n",
    "        \n",
    "        if (i+1) % 100 == 0:\n",
    "            print ('Epoch [{}/{}], Step [{}/{}], Loss: {:.4f}' \n",
    "                   .format(epoch+1, num_epochs, i+1, total_step, loss.item()))\n",
    "\n"
   ]
  },
  {
   "cell_type": "markdown",
   "metadata": {},
   "source": [
    "### Test the model\n",
    "    In this phase, we don't need to compute gradients (helpful for memory efficiency)"
   ]
  },
  {
   "cell_type": "code",
   "execution_count": 11,
   "metadata": {},
   "outputs": [
    {
     "name": "stdout",
     "output_type": "stream",
     "text": [
      "Accuracy of the network on the 10000 test images: 97.2 %\n"
     ]
    }
   ],
   "source": [
    "with torch.no_grad():\n",
    "    correct = 0\n",
    "    total = 0\n",
    "    for images, labels in test_loader:\n",
    "        images = images.reshape(-1, 28*28).to(device)\n",
    "        labels = labels.to(device)\n",
    "        outputs = model(images)\n",
    "        _, predicted = torch.max(outputs.data, 1)\n",
    "        total += labels.size(0)\n",
    "        correct += (predicted == labels).sum().item()\n",
    "\n",
    "    print('Accuracy of the network on the 10000 test images: {} %'.format(100 * correct / total))\n"
   ]
  },
  {
   "cell_type": "markdown",
   "metadata": {},
   "source": [
    "### Save the model checkpoint"
   ]
  },
  {
   "cell_type": "code",
   "execution_count": null,
   "metadata": {
    "collapsed": true
   },
   "outputs": [],
   "source": [
    "torch.save(model.state_dict(), 'model.ckpt')"
   ]
  }
 ],
 "metadata": {
  "kernelspec": {
   "display_name": "Python 3",
   "language": "python",
   "name": "python3"
  },
  "language_info": {
   "codemirror_mode": {
    "name": "ipython",
    "version": 3
   },
   "file_extension": ".py",
   "mimetype": "text/x-python",
   "name": "python",
   "nbconvert_exporter": "python",
   "pygments_lexer": "ipython3",
   "version": "3.6.4"
  }
 },
 "nbformat": 4,
 "nbformat_minor": 2
}
